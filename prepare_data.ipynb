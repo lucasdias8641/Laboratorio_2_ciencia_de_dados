{
 "cells": [
  {
   "cell_type": "code",
   "execution_count": 15,
   "metadata": {},
   "outputs": [],
   "source": [
    "#import libraries\n",
    "import pandas as pd\n",
    "import numpy as np\n",
    "\n",
    "#read the file\n",
    "df = pd.read_csv('dataset/dataset_lab2.csv')"
   ]
  },
  {
   "cell_type": "code",
   "execution_count": 16,
   "metadata": {},
   "outputs": [
    {
     "name": "stdout",
     "output_type": "stream",
     "text": [
      "<class 'pandas.core.frame.DataFrame'>\n",
      "RangeIndex: 420 entries, 0 to 419\n",
      "Data columns (total 11 columns):\n",
      " #   Column  Non-Null Count  Dtype  \n",
      "---  ------  --------------  -----  \n",
      " 0   id      420 non-null    int64  \n",
      " 1   huml    419 non-null    float64\n",
      " 2   humw    419 non-null    float64\n",
      " 3   ulnal   417 non-null    float64\n",
      " 4   ulnaw   418 non-null    float64\n",
      " 5   feml    418 non-null    float64\n",
      " 6   femw    419 non-null    float64\n",
      " 7   tibl    418 non-null    float64\n",
      " 8   tibw    419 non-null    float64\n",
      " 9   tarl    419 non-null    float64\n",
      " 10  tarw    419 non-null    float64\n",
      "dtypes: float64(10), int64(1)\n",
      "memory usage: 36.2 KB\n"
     ]
    }
   ],
   "source": [
    "#see the missing values\n",
    "df.info()"
   ]
  },
  {
   "cell_type": "code",
   "execution_count": 17,
   "metadata": {},
   "outputs": [
    {
     "name": "stdout",
     "output_type": "stream",
     "text": [
      "df : 420\n",
      "df.dropna : 413\n"
     ]
    }
   ],
   "source": [
    "#How much information that we lost if we just drop the lanes with na values?\n",
    "print(f'df : {len(df)}\\ndf.dropna : {len(df.dropna())}')"
   ]
  },
  {
   "cell_type": "code",
   "execution_count": 18,
   "metadata": {},
   "outputs": [],
   "source": [
    "#It's worth to drop this lines\n",
    "df.dropna(inplace = True)"
   ]
  },
  {
   "cell_type": "code",
   "execution_count": 19,
   "metadata": {},
   "outputs": [],
   "source": [
    "#The values are in the format that we want, float so i will export this data to do the exploratory analysis\n",
    "df.to_csv('dataset/dataset_lab2_2.csv')"
   ]
  },
  {
   "cell_type": "code",
   "execution_count": 30,
   "metadata": {},
   "outputs": [],
   "source": [
    "#normalize columns\n",
    "for i in range(1,len(df.columns)):\n",
    "    line = np.array(df.iloc[:,i])\n",
    "    df.iloc[:,i] = ((line-line.mean())/line.std())"
   ]
  },
  {
   "cell_type": "code",
   "execution_count": 39,
   "metadata": {},
   "outputs": [],
   "source": [
    "#export normalized df\n",
    "df.to_csv('dataset/normalized_df.csv')"
   ]
  }
 ],
 "metadata": {
  "interpreter": {
   "hash": "dd3106f17cb3399392c4dccb9a8c82bd3788e8313257aff6101ca648ee8f14a6"
  },
  "kernelspec": {
   "display_name": "Python 3.9.7 ('base')",
   "language": "python",
   "name": "python3"
  },
  "language_info": {
   "codemirror_mode": {
    "name": "ipython",
    "version": 3
   },
   "file_extension": ".py",
   "mimetype": "text/x-python",
   "name": "python",
   "nbconvert_exporter": "python",
   "pygments_lexer": "ipython3",
   "version": "3.9.7"
  },
  "orig_nbformat": 4
 },
 "nbformat": 4,
 "nbformat_minor": 2
}
